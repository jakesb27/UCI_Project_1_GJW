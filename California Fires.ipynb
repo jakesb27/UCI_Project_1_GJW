{
 "cells": [
  {
   "cell_type": "code",
   "execution_count": 1,
   "id": "769990c8",
   "metadata": {},
   "outputs": [],
   "source": [
    "# Import dependencies\n",
    "import pandas as pd\n",
    "import matplotlib.pyplot as plt"
   ]
  },
  {
   "cell_type": "code",
   "execution_count": 19,
   "id": "aa566a0f",
   "metadata": {},
   "outputs": [
    {
     "name": "stdout",
     "output_type": "stream",
     "text": [
      "Index(['FPA_ID', 'SOURCE_SYSTEM_TYPE', 'NWCG_REPORTING_UNIT_NAME',\n",
      "       'SOURCE_REPORTING_UNIT', 'SOURCE_REPORTING_UNIT_NAME',\n",
      "       'LOCAL_FIRE_REPORT_ID', 'LOCAL_INCIDENT_ID', 'FIRE_CODE', 'FIRE_NAME',\n",
      "       'ICS_209_PLUS_INCIDENT_JOIN_ID', 'ICS_209_PLUS_COMPLEX_JOIN_ID',\n",
      "       'MTBS_ID', 'MTBS_FIRE_NAME', 'COMPLEX_NAME', 'FIRE_YEAR',\n",
      "       'DISCOVERY_DATE', 'DISCOVERY_DOY', 'DISCOVERY_TIME',\n",
      "       'NWCG_CAUSE_CLASSIFICATION', 'NWCG_GENERAL_CAUSE',\n",
      "       'NWCG_CAUSE_AGE_CATEGORY', 'CONT_DATE', 'CONT_DOY', 'CONT_TIME',\n",
      "       'FIRE_SIZE', 'FIRE_SIZE_CLASS', 'LATITUDE', 'LONGITUDE', 'OWNER_DESCR',\n",
      "       'COUNTY', 'FIPS_CODE', 'FIPS_NAME'],\n",
      "      dtype='object')\n"
     ]
    },
    {
     "data": {
      "text/html": [
       "<div>\n",
       "<style scoped>\n",
       "    .dataframe tbody tr th:only-of-type {\n",
       "        vertical-align: middle;\n",
       "    }\n",
       "\n",
       "    .dataframe tbody tr th {\n",
       "        vertical-align: top;\n",
       "    }\n",
       "\n",
       "    .dataframe thead th {\n",
       "        text-align: right;\n",
       "    }\n",
       "</style>\n",
       "<table border=\"1\" class=\"dataframe\">\n",
       "  <thead>\n",
       "    <tr style=\"text-align: right;\">\n",
       "      <th></th>\n",
       "      <th>FPA_ID</th>\n",
       "      <th>SOURCE_SYSTEM_TYPE</th>\n",
       "      <th>NWCG_REPORTING_UNIT_NAME</th>\n",
       "      <th>SOURCE_REPORTING_UNIT</th>\n",
       "      <th>SOURCE_REPORTING_UNIT_NAME</th>\n",
       "      <th>LOCAL_FIRE_REPORT_ID</th>\n",
       "      <th>LOCAL_INCIDENT_ID</th>\n",
       "      <th>FIRE_CODE</th>\n",
       "      <th>FIRE_NAME</th>\n",
       "      <th>ICS_209_PLUS_INCIDENT_JOIN_ID</th>\n",
       "      <th>...</th>\n",
       "      <th>CONT_DOY</th>\n",
       "      <th>CONT_TIME</th>\n",
       "      <th>FIRE_SIZE</th>\n",
       "      <th>FIRE_SIZE_CLASS</th>\n",
       "      <th>LATITUDE</th>\n",
       "      <th>LONGITUDE</th>\n",
       "      <th>OWNER_DESCR</th>\n",
       "      <th>COUNTY</th>\n",
       "      <th>FIPS_CODE</th>\n",
       "      <th>FIPS_NAME</th>\n",
       "    </tr>\n",
       "  </thead>\n",
       "  <tbody>\n",
       "    <tr>\n",
       "      <th>0</th>\n",
       "      <td>FS-1418826</td>\n",
       "      <td>FED</td>\n",
       "      <td>Plumas National Forest</td>\n",
       "      <td>0511</td>\n",
       "      <td>Plumas National Forest</td>\n",
       "      <td>1.0</td>\n",
       "      <td>PNF-47</td>\n",
       "      <td>BJ8K</td>\n",
       "      <td>FOUNTAIN</td>\n",
       "      <td>NaN</td>\n",
       "      <td>...</td>\n",
       "      <td>33.0</td>\n",
       "      <td>1730.0</td>\n",
       "      <td>0.10</td>\n",
       "      <td>A</td>\n",
       "      <td>40.036944</td>\n",
       "      <td>-121.005833</td>\n",
       "      <td>USFS</td>\n",
       "      <td>63</td>\n",
       "      <td>6063.0</td>\n",
       "      <td>Plumas County</td>\n",
       "    </tr>\n",
       "    <tr>\n",
       "      <th>1</th>\n",
       "      <td>FS-1418827</td>\n",
       "      <td>FED</td>\n",
       "      <td>Eldorado National Forest</td>\n",
       "      <td>0503</td>\n",
       "      <td>Eldorado National Forest</td>\n",
       "      <td>13.0</td>\n",
       "      <td>13</td>\n",
       "      <td>AAC0</td>\n",
       "      <td>PIGEON</td>\n",
       "      <td>NaN</td>\n",
       "      <td>...</td>\n",
       "      <td>133.0</td>\n",
       "      <td>1530.0</td>\n",
       "      <td>0.25</td>\n",
       "      <td>A</td>\n",
       "      <td>38.933056</td>\n",
       "      <td>-120.404444</td>\n",
       "      <td>USFS</td>\n",
       "      <td>61</td>\n",
       "      <td>6061.0</td>\n",
       "      <td>Placer County</td>\n",
       "    </tr>\n",
       "    <tr>\n",
       "      <th>2</th>\n",
       "      <td>FS-1418835</td>\n",
       "      <td>FED</td>\n",
       "      <td>Eldorado National Forest</td>\n",
       "      <td>0503</td>\n",
       "      <td>Eldorado National Forest</td>\n",
       "      <td>27.0</td>\n",
       "      <td>021</td>\n",
       "      <td>A32W</td>\n",
       "      <td>SLACK</td>\n",
       "      <td>NaN</td>\n",
       "      <td>...</td>\n",
       "      <td>152.0</td>\n",
       "      <td>2024.0</td>\n",
       "      <td>0.10</td>\n",
       "      <td>A</td>\n",
       "      <td>38.984167</td>\n",
       "      <td>-120.735556</td>\n",
       "      <td>STATE OR PRIVATE</td>\n",
       "      <td>17</td>\n",
       "      <td>6017.0</td>\n",
       "      <td>El Dorado County</td>\n",
       "    </tr>\n",
       "    <tr>\n",
       "      <th>3</th>\n",
       "      <td>FS-1418845</td>\n",
       "      <td>FED</td>\n",
       "      <td>Eldorado National Forest</td>\n",
       "      <td>0503</td>\n",
       "      <td>Eldorado National Forest</td>\n",
       "      <td>43.0</td>\n",
       "      <td>6</td>\n",
       "      <td>NaN</td>\n",
       "      <td>DEER</td>\n",
       "      <td>NaN</td>\n",
       "      <td>...</td>\n",
       "      <td>185.0</td>\n",
       "      <td>1400.0</td>\n",
       "      <td>0.10</td>\n",
       "      <td>A</td>\n",
       "      <td>38.559167</td>\n",
       "      <td>-119.913333</td>\n",
       "      <td>USFS</td>\n",
       "      <td>3</td>\n",
       "      <td>6003.0</td>\n",
       "      <td>Alpine County</td>\n",
       "    </tr>\n",
       "    <tr>\n",
       "      <th>4</th>\n",
       "      <td>FS-1418847</td>\n",
       "      <td>FED</td>\n",
       "      <td>Eldorado National Forest</td>\n",
       "      <td>0503</td>\n",
       "      <td>Eldorado National Forest</td>\n",
       "      <td>44.0</td>\n",
       "      <td>7</td>\n",
       "      <td>NaN</td>\n",
       "      <td>STEVENOT</td>\n",
       "      <td>NaN</td>\n",
       "      <td>...</td>\n",
       "      <td>185.0</td>\n",
       "      <td>1200.0</td>\n",
       "      <td>0.10</td>\n",
       "      <td>A</td>\n",
       "      <td>38.559167</td>\n",
       "      <td>-119.933056</td>\n",
       "      <td>USFS</td>\n",
       "      <td>3</td>\n",
       "      <td>6003.0</td>\n",
       "      <td>Alpine County</td>\n",
       "    </tr>\n",
       "  </tbody>\n",
       "</table>\n",
       "<p>5 rows × 32 columns</p>\n",
       "</div>"
      ],
      "text/plain": [
       "       FPA_ID SOURCE_SYSTEM_TYPE  NWCG_REPORTING_UNIT_NAME  \\\n",
       "0  FS-1418826                FED    Plumas National Forest   \n",
       "1  FS-1418827                FED  Eldorado National Forest   \n",
       "2  FS-1418835                FED  Eldorado National Forest   \n",
       "3  FS-1418845                FED  Eldorado National Forest   \n",
       "4  FS-1418847                FED  Eldorado National Forest   \n",
       "\n",
       "  SOURCE_REPORTING_UNIT SOURCE_REPORTING_UNIT_NAME  LOCAL_FIRE_REPORT_ID  \\\n",
       "0                  0511     Plumas National Forest                   1.0   \n",
       "1                  0503   Eldorado National Forest                  13.0   \n",
       "2                  0503   Eldorado National Forest                  27.0   \n",
       "3                  0503   Eldorado National Forest                  43.0   \n",
       "4                  0503   Eldorado National Forest                  44.0   \n",
       "\n",
       "  LOCAL_INCIDENT_ID FIRE_CODE FIRE_NAME ICS_209_PLUS_INCIDENT_JOIN_ID  ...  \\\n",
       "0            PNF-47      BJ8K  FOUNTAIN                           NaN  ...   \n",
       "1                13      AAC0    PIGEON                           NaN  ...   \n",
       "2               021      A32W     SLACK                           NaN  ...   \n",
       "3                 6       NaN      DEER                           NaN  ...   \n",
       "4                 7       NaN  STEVENOT                           NaN  ...   \n",
       "\n",
       "  CONT_DOY CONT_TIME FIRE_SIZE FIRE_SIZE_CLASS   LATITUDE   LONGITUDE  \\\n",
       "0     33.0    1730.0      0.10               A  40.036944 -121.005833   \n",
       "1    133.0    1530.0      0.25               A  38.933056 -120.404444   \n",
       "2    152.0    2024.0      0.10               A  38.984167 -120.735556   \n",
       "3    185.0    1400.0      0.10               A  38.559167 -119.913333   \n",
       "4    185.0    1200.0      0.10               A  38.559167 -119.933056   \n",
       "\n",
       "        OWNER_DESCR  COUNTY FIPS_CODE         FIPS_NAME  \n",
       "0              USFS      63    6063.0     Plumas County  \n",
       "1              USFS      61    6061.0     Placer County  \n",
       "2  STATE OR PRIVATE      17    6017.0  El Dorado County  \n",
       "3              USFS       3    6003.0     Alpine County  \n",
       "4              USFS       3    6003.0     Alpine County  \n",
       "\n",
       "[5 rows x 32 columns]"
      ]
     },
     "execution_count": 19,
     "metadata": {},
     "output_type": "execute_result"
    }
   ],
   "source": [
    "# Import dataset into dataframe\n",
    "ca_fire_data = pd.read_csv('Resources/CA_Fires.csv', parse_dates=['DISCOVERY_DATE', 'CONT_DATE'], dtype={'FIRE_YEAR': str, 'LOCAL_INCIDENT_ID': str, 'FIRE_CODE': str, 'COUNTY': str})\n",
    "print(ca_fire_data.columns)\n",
    "ca_fire_data.head()"
   ]
  },
  {
   "cell_type": "markdown",
   "id": "0ec39130",
   "metadata": {},
   "source": [
    "# Number of Fires Each Year (Code Below)"
   ]
  },
  {
   "cell_type": "code",
   "execution_count": 20,
   "id": "e5f8649e",
   "metadata": {},
   "outputs": [
    {
     "data": {
      "image/png": "[encoded data removed]",
      "text/plain": [
       "<Figure size 432x288 with 1 Axes>"
      ]
     },
     "metadata": {
      "needs_background": "light"
     },
     "output_type": "display_data"
    }
   ],
   "source": [
    "fires_per_year = ca_fire_data.groupby('FIRE_YEAR').count()['FPA_ID']\n",
    "fires_per_year.plot(kind='line')\n",
    "plt.show()"
   ]
  },
  {
   "cell_type": "markdown",
   "id": "d223ce85",
   "metadata": {},
   "source": [
    "# Question 2 (Code Below)"
   ]
  },
  {
   "cell_type": "code",
   "execution_count": null,
   "id": "37f37539",
   "metadata": {},
   "outputs": [],
   "source": []
  },
  {
   "cell_type": "markdown",
   "id": "a4d976a3",
   "metadata": {},
   "source": [
    "# Question 3 (Code Below)"
   ]
  },
  {
   "cell_type": "code",
   "execution_count": null,
   "id": "3daeda8c",
   "metadata": {},
   "outputs": [],
   "source": []
  },
  {
   "cell_type": "markdown",
   "id": "e3a738e7",
   "metadata": {},
   "source": [
    "# Question 4 (Code Below)"
   ]
  },
  {
   "cell_type": "code",
   "execution_count": null,
   "id": "d081b45f",
   "metadata": {},
   "outputs": [],
   "source": []
  },
  {
   "cell_type": "markdown",
   "id": "d97e862f",
   "metadata": {},
   "source": [
    "# Question 5 (Code Below)"
   ]
  },
  {
   "cell_type": "code",
   "execution_count": null,
   "id": "5ee67155",
   "metadata": {},
   "outputs": [],
   "source": []
  },
  {
   "cell_type": "markdown",
   "id": "a7d45d3f",
   "metadata": {},
   "source": [
    "# Question 6 (Code Below)"
   ]
  },
  {
   "cell_type": "code",
   "execution_count": null,
   "id": "6598527c",
   "metadata": {},
   "outputs": [],
   "source": []
  },
  {
   "cell_type": "markdown",
   "id": "6d1217ae",
   "metadata": {},
   "source": [
    "# Question 7 (Code Below)"
   ]
  },
  {
   "cell_type": "code",
   "execution_count": null,
   "id": "95371843",
   "metadata": {},
   "outputs": [],
   "source": []
  },
  {
   "cell_type": "markdown",
   "id": "e774963d",
   "metadata": {},
   "source": [
    "# Question 8 (Code Below)"
   ]
  },
  {
   "cell_type": "code",
   "execution_count": null,
   "id": "d777cb30",
   "metadata": {},
   "outputs": [],
   "source": []
  }
 ],
 "metadata": {
  "kernelspec": {
   "display_name": "PythonData",
   "language": "python",
   "name": "pythondata"
  },
  "language_info": {
   "codemirror_mode": {
    "name": "ipython",
    "version": 3
   },
   "file_extension": ".py",
   "mimetype": "text/x-python",
   "name": "python",
   "nbconvert_exporter": "python",
   "pygments_lexer": "ipython3",
   "version": "3.7.7"
  }
 },
 "nbformat": 4,
 "nbformat_minor": 5
}
