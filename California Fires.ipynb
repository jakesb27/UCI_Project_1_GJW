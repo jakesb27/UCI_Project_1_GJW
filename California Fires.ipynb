{
 "cells": [
  {
   "cell_type": "code",
   "execution_count": 1,
   "id": "a4cbae9d",
   "metadata": {},
   "outputs": [],
   "source": [
    "# Import dependencies\n",
    "import pandas as pd\n",
    "import numpy as np\n",
    "import matplotlib.pyplot as plt\n",
    "from scipy import stats"
   ]
  },
  {
   "cell_type": "code",
   "execution_count": 2,
   "id": "ac9834c2",
   "metadata": {},
   "outputs": [],
   "source": [
    "# Import dataset into dataframe\n",
    "ca_fire_data = pd.read_csv('Resources/CA_Fires.csv', parse_dates=['DISCOVERY_DATE', 'CONT_DATE'], dtype={'FIRE_YEAR': 'int64', 'LOCAL_INCIDENT_ID': str, 'FIRE_CODE': str, 'COUNTY': str})\n",
    "\n",
    "# Clean data and create subset\n",
    "ca_fire_data = ca_fire_data.loc[ca_fire_data['FIRE_YEAR'] > 2000]\n",
    "top_fires = ca_fire_data.sort_values(['FIRE_YEAR', 'FIRE_SIZE'], ascending=False).groupby('FIRE_YEAR').head(50).reset_index(drop=True)\n",
    "top_fires = top_fires[['FPA_ID', 'FIRE_YEAR', 'FIRE_NAME', 'DISCOVERY_DATE', 'DISCOVERY_DOY', 'NWCG_CAUSE_CLASSIFICATION', 'NWCG_GENERAL_CAUSE', 'FIRE_SIZE', 'FIRE_SIZE_CLASS', 'LATITUDE', 'LONGITUDE']]\n",
    "top_fires = top_fires.rename(columns={\n",
    "    'NWCG_CAUSE_CLASSIFICATION': 'CAUSE_CLASS',\n",
    "    'NWCG_GENERAL_CAUSE': 'GENERAL_CAUSE',\n",
    "})\n",
    "top_fires['MONTH'] = ca_fire_data['DISCOVERY_DATE'].dt.month\n",
    "top_fires\n",
    "\n",
    "# Save data to csv\n",
    "top_fires.to_csv('Resources/top_fires.csv', index=False)"
   ]
  },
  {
   "cell_type": "code",
   "execution_count": 3,
   "id": "5de5c716",
   "metadata": {},
   "outputs": [
    {
     "data": {
      "text/html": [
       "<div>\n",
       "<style scoped>\n",
       "    .dataframe tbody tr th:only-of-type {\n",
       "        vertical-align: middle;\n",
       "    }\n",
       "\n",
       "    .dataframe tbody tr th {\n",
       "        vertical-align: top;\n",
       "    }\n",
       "\n",
       "    .dataframe thead th {\n",
       "        text-align: right;\n",
       "    }\n",
       "</style>\n",
       "<table border=\"1\" class=\"dataframe\">\n",
       "  <thead>\n",
       "    <tr style=\"text-align: right;\">\n",
       "      <th></th>\n",
       "      <th>FPA_ID</th>\n",
       "      <th>FIRE_YEAR</th>\n",
       "      <th>FIRE_NAME</th>\n",
       "      <th>DISCOVERY_DATE</th>\n",
       "      <th>DISCOVERY_DOY</th>\n",
       "      <th>CAUSE_CLASS</th>\n",
       "      <th>GENERAL_CAUSE</th>\n",
       "      <th>FIRE_SIZE</th>\n",
       "      <th>FIRE_SIZE_CLASS</th>\n",
       "      <th>LATITUDE</th>\n",
       "      <th>LONGITUDE</th>\n",
       "      <th>MONTH</th>\n",
       "    </tr>\n",
       "  </thead>\n",
       "  <tbody>\n",
       "    <tr>\n",
       "      <th>0</th>\n",
       "      <td>IRW-2020-CAMNF-000730</td>\n",
       "      <td>2020</td>\n",
       "      <td>DOE</td>\n",
       "      <td>2020-08-16</td>\n",
       "      <td>229</td>\n",
       "      <td>Natural</td>\n",
       "      <td>Natural</td>\n",
       "      <td>589368.0</td>\n",
       "      <td>G</td>\n",
       "      <td>39.765255</td>\n",
       "      <td>-122.672914</td>\n",
       "      <td>2</td>\n",
       "    </tr>\n",
       "    <tr>\n",
       "      <th>1</th>\n",
       "      <td>IRW-2020-CASCU-005740</td>\n",
       "      <td>2020</td>\n",
       "      <td>SCU LIGHTNING COMPLEX</td>\n",
       "      <td>2020-08-16</td>\n",
       "      <td>229</td>\n",
       "      <td>Missing data/not specified/undetermined</td>\n",
       "      <td>Missing data/not specified/undetermined</td>\n",
       "      <td>396624.0</td>\n",
       "      <td>G</td>\n",
       "      <td>37.423905</td>\n",
       "      <td>-121.567713</td>\n",
       "      <td>5</td>\n",
       "    </tr>\n",
       "    <tr>\n",
       "      <th>2</th>\n",
       "      <td>IRW-2020-CASNF-001391</td>\n",
       "      <td>2020</td>\n",
       "      <td>CREEK</td>\n",
       "      <td>2020-09-04</td>\n",
       "      <td>248</td>\n",
       "      <td>Human</td>\n",
       "      <td>Missing data/not specified/undetermined</td>\n",
       "      <td>379895.0</td>\n",
       "      <td>G</td>\n",
       "      <td>37.201005</td>\n",
       "      <td>-119.271613</td>\n",
       "      <td>5</td>\n",
       "    </tr>\n",
       "    <tr>\n",
       "      <th>3</th>\n",
       "      <td>IRW-2020-CAMNF-000757</td>\n",
       "      <td>2020</td>\n",
       "      <td>HOPKINS</td>\n",
       "      <td>2020-08-17</td>\n",
       "      <td>230</td>\n",
       "      <td>Natural</td>\n",
       "      <td>Natural</td>\n",
       "      <td>328363.0</td>\n",
       "      <td>G</td>\n",
       "      <td>40.125375</td>\n",
       "      <td>-123.072714</td>\n",
       "      <td>6</td>\n",
       "    </tr>\n",
       "    <tr>\n",
       "      <th>4</th>\n",
       "      <td>IRW-2020-CAPNF-001302</td>\n",
       "      <td>2020</td>\n",
       "      <td>CLAREMONT</td>\n",
       "      <td>2020-08-17</td>\n",
       "      <td>230</td>\n",
       "      <td>Natural</td>\n",
       "      <td>Natural</td>\n",
       "      <td>318776.0</td>\n",
       "      <td>G</td>\n",
       "      <td>39.858275</td>\n",
       "      <td>-120.912013</td>\n",
       "      <td>6</td>\n",
       "    </tr>\n",
       "    <tr>\n",
       "      <th>...</th>\n",
       "      <td>...</td>\n",
       "      <td>...</td>\n",
       "      <td>...</td>\n",
       "      <td>...</td>\n",
       "      <td>...</td>\n",
       "      <td>...</td>\n",
       "      <td>...</td>\n",
       "      <td>...</td>\n",
       "      <td>...</td>\n",
       "      <td>...</td>\n",
       "      <td>...</td>\n",
       "      <td>...</td>\n",
       "    </tr>\n",
       "    <tr>\n",
       "      <th>995</th>\n",
       "      <td>FS-368115</td>\n",
       "      <td>2001</td>\n",
       "      <td>SHELBY</td>\n",
       "      <td>2001-07-27</td>\n",
       "      <td>208</td>\n",
       "      <td>Human</td>\n",
       "      <td>Railroad operations and maintenance</td>\n",
       "      <td>720.0</td>\n",
       "      <td>E</td>\n",
       "      <td>34.200000</td>\n",
       "      <td>-117.390000</td>\n",
       "      <td>5</td>\n",
       "    </tr>\n",
       "    <tr>\n",
       "      <th>996</th>\n",
       "      <td>W-104079</td>\n",
       "      <td>2001</td>\n",
       "      <td>COWHEAD</td>\n",
       "      <td>2001-08-08</td>\n",
       "      <td>220</td>\n",
       "      <td>Natural</td>\n",
       "      <td>Natural</td>\n",
       "      <td>709.0</td>\n",
       "      <td>E</td>\n",
       "      <td>41.865190</td>\n",
       "      <td>-120.070800</td>\n",
       "      <td>5</td>\n",
       "    </tr>\n",
       "    <tr>\n",
       "      <th>997</th>\n",
       "      <td>FWS-2001CAGRRX182</td>\n",
       "      <td>2001</td>\n",
       "      <td>AQUEDUCT</td>\n",
       "      <td>2001-07-01</td>\n",
       "      <td>182</td>\n",
       "      <td>Human</td>\n",
       "      <td>Equipment and vehicle use</td>\n",
       "      <td>700.0</td>\n",
       "      <td>E</td>\n",
       "      <td>37.078663</td>\n",
       "      <td>-120.989141</td>\n",
       "      <td>4</td>\n",
       "    </tr>\n",
       "    <tr>\n",
       "      <th>998</th>\n",
       "      <td>SFO-2001CACDFMMU010898</td>\n",
       "      <td>2001</td>\n",
       "      <td>MC NAMMARA</td>\n",
       "      <td>2001-07-01</td>\n",
       "      <td>182</td>\n",
       "      <td>Human</td>\n",
       "      <td>Equipment and vehicle use</td>\n",
       "      <td>700.0</td>\n",
       "      <td>E</td>\n",
       "      <td>37.221944</td>\n",
       "      <td>-120.478889</td>\n",
       "      <td>5</td>\n",
       "    </tr>\n",
       "    <tr>\n",
       "      <th>999</th>\n",
       "      <td>FS-369213</td>\n",
       "      <td>2001</td>\n",
       "      <td>BSFMU31</td>\n",
       "      <td>2001-08-11</td>\n",
       "      <td>223</td>\n",
       "      <td>Natural</td>\n",
       "      <td>Natural</td>\n",
       "      <td>671.0</td>\n",
       "      <td>E</td>\n",
       "      <td>41.695278</td>\n",
       "      <td>-120.571667</td>\n",
       "      <td>4</td>\n",
       "    </tr>\n",
       "  </tbody>\n",
       "</table>\n",
       "<p>1000 rows × 12 columns</p>\n",
       "</div>"
      ],
      "text/plain": [
       "                     FPA_ID  FIRE_YEAR                  FIRE_NAME  \\\n",
       "0     IRW-2020-CAMNF-000730       2020                        DOE   \n",
       "1     IRW-2020-CASCU-005740       2020      SCU LIGHTNING COMPLEX   \n",
       "2     IRW-2020-CASNF-001391       2020                      CREEK   \n",
       "3     IRW-2020-CAMNF-000757       2020                    HOPKINS   \n",
       "4     IRW-2020-CAPNF-001302       2020                  CLAREMONT   \n",
       "..                      ...        ...                        ...   \n",
       "995               FS-368115       2001                     SHELBY   \n",
       "996                W-104079       2001                    COWHEAD   \n",
       "997       FWS-2001CAGRRX182       2001                   AQUEDUCT   \n",
       "998  SFO-2001CACDFMMU010898       2001  MC NAMMARA                  \n",
       "999               FS-369213       2001                    BSFMU31   \n",
       "\n",
       "    DISCOVERY_DATE  DISCOVERY_DOY                              CAUSE_CLASS  \\\n",
       "0       2020-08-16            229                                  Natural   \n",
       "1       2020-08-16            229  Missing data/not specified/undetermined   \n",
       "2       2020-09-04            248                                    Human   \n",
       "3       2020-08-17            230                                  Natural   \n",
       "4       2020-08-17            230                                  Natural   \n",
       "..             ...            ...                                      ...   \n",
       "995     2001-07-27            208                                    Human   \n",
       "996     2001-08-08            220                                  Natural   \n",
       "997     2001-07-01            182                                    Human   \n",
       "998     2001-07-01            182                                    Human   \n",
       "999     2001-08-11            223                                  Natural   \n",
       "\n",
       "                               GENERAL_CAUSE  FIRE_SIZE FIRE_SIZE_CLASS  \\\n",
       "0                                    Natural   589368.0               G   \n",
       "1    Missing data/not specified/undetermined   396624.0               G   \n",
       "2    Missing data/not specified/undetermined   379895.0               G   \n",
       "3                                    Natural   328363.0               G   \n",
       "4                                    Natural   318776.0               G   \n",
       "..                                       ...        ...             ...   \n",
       "995      Railroad operations and maintenance      720.0               E   \n",
       "996                                  Natural      709.0               E   \n",
       "997                Equipment and vehicle use      700.0               E   \n",
       "998                Equipment and vehicle use      700.0               E   \n",
       "999                                  Natural      671.0               E   \n",
       "\n",
       "      LATITUDE   LONGITUDE  MONTH  \n",
       "0    39.765255 -122.672914      2  \n",
       "1    37.423905 -121.567713      5  \n",
       "2    37.201005 -119.271613      5  \n",
       "3    40.125375 -123.072714      6  \n",
       "4    39.858275 -120.912013      6  \n",
       "..         ...         ...    ...  \n",
       "995  34.200000 -117.390000      5  \n",
       "996  41.865190 -120.070800      5  \n",
       "997  37.078663 -120.989141      4  \n",
       "998  37.221944 -120.478889      5  \n",
       "999  41.695278 -120.571667      4  \n",
       "\n",
       "[1000 rows x 12 columns]"
      ]
     },
     "execution_count": 3,
     "metadata": {},
     "output_type": "execute_result"
    }
   ],
   "source": [
    "# Import final CA fire data\n",
    "fire_data = pd.read_csv('Resources/top_fires.csv', parse_dates=['DISCOVERY_DATE'])\n",
    "fire_data"
   ]
  },
  {
   "cell_type": "markdown",
   "id": "7107dd3c",
   "metadata": {},
   "source": [
    "# Average Acreage Burned\n",
    "\n",
    "* Has the average acreage burned increased or decreased each year?"
   ]
  },
  {
   "cell_type": "code",
   "execution_count": 4,
   "id": "dee27787",
   "metadata": {},
   "outputs": [
    {
     "data": {
      "image/png": "[encoded data removed]",
      "text/plain": [
       "<Figure size 720x360 with 1 Axes>"
      ]
     },
     "metadata": {
      "needs_background": "light"
     },
     "output_type": "display_data"
    }
   ],
   "source": [
    "# Generate a scatter plot of year vs. avg acres burned\n",
    "years = fire_data['FIRE_YEAR'].drop_duplicates().sort_values()\n",
    "avg_acre = fire_data.groupby('FIRE_YEAR').mean()['FIRE_SIZE']\n",
    "\n",
    "# Perform a linear regression on year vs. avg acres burned and create equation line\n",
    "a_slope, a_int, a_r, a_p, a_std_err = stats.linregress(years, avg_acre)\n",
    "a_fit = a_slope * years + a_int\n",
    "\n",
    "# Plot the linear model and scatter plot\n",
    "fig = plt.figure(figsize=(10, 5))\n",
    "plt.xlim(min(years), max(years))\n",
    "plt.scatter(years, avg_acre)\n",
    "plt.plot(years, a_fit, \"--\", color='red')\n",
    "plt.xticks(years, rotation=90)\n",
    "plt.xlabel(\"Year\", fontsize=14, labelpad=10)\n",
    "plt.ylabel(\"Average Acres Burned\", fontsize=14, labelpad=10)\n",
    "plt.title(\"Avg. Acres Burned Each Year\", fontsize=20, pad=10)\n",
    "plt.show()"
   ]
  },
  {
   "cell_type": "markdown",
   "id": "d7bffa52",
   "metadata": {},
   "source": [
    "# Which Area is Impacted the Most?\n",
    "* Northern California?\n",
    "* Southern California?"
   ]
  },
  {
   "cell_type": "code",
   "execution_count": 5,
   "id": "5dcf40cd",
   "metadata": {},
   "outputs": [
    {
     "name": "stdout",
     "output_type": "stream",
     "text": [
      "The total acres burned in Northern California: 9,959,282\n",
      "The total acres burned in Southern California: 6,107,927\n"
     ]
    }
   ],
   "source": [
    "norcal_total_acres = fire_data.loc[fire_data['LATITUDE'] >= 37]['FIRE_SIZE'].sum()\n",
    "socal_total_acres = fire_data.loc[fire_data['LATITUDE'] < 37]['FIRE_SIZE'].sum()\n",
    "\n",
    "print(f\"The total acres burned in Northern California: {round(norcal_total_acres):,}\")\n",
    "print(f\"The total acres burned in Southern California: {round(socal_total_acres):,}\")"
   ]
  },
  {
   "cell_type": "code",
   "execution_count": 6,
   "id": "7fffcd30",
   "metadata": {},
   "outputs": [
    {
     "data": {
      "image/png": "[encoded data removed]",
      "text/plain": [
       "<Figure size 720x360 with 1 Axes>"
      ]
     },
     "metadata": {
      "needs_background": "light"
     },
     "output_type": "display_data"
    }
   ],
   "source": [
    "# Create Northern and Southern California data frames\n",
    "norcal_fires = fire_data.loc[fire_data['LATITUDE'] >= 37]\n",
    "socal_fires = fire_data.loc[fire_data['LATITUDE'] < 37]\n",
    "\n",
    "norcal_avg_acre = norcal_fires.groupby('FIRE_YEAR').mean()['FIRE_SIZE']\n",
    "n_slope, n_int, n_r, n_p, n_std_err = stats.linregress(years, norcal_avg_acre)\n",
    "n_fit = n_slope * years + n_int\n",
    "\n",
    "socal_avg_acre = socal_fires.groupby('FIRE_YEAR').mean()['FIRE_SIZE']\n",
    "s_slope, s_int, s_r, s_p, s_std_err = stats.linregress(years, socal_avg_acre)\n",
    "s_fit = s_slope * years + s_int\n",
    "\n",
    "fig, ax1 = plt.subplots(1, sharex=True, figsize=(10, 5))\n",
    "plt.xticks(years, rotation=45)\n",
    "\n",
    "ax1.set_xlim(min(years), max(years))\n",
    "ax1.plot(years, norcal_avg_acre, linewidth=1, marker=\"o\", color='g', label=\"Nor-Cal\")\n",
    "ax1.plot(years, n_fit, \"g--\", linewidth=1)\n",
    "\n",
    "ax1.plot(years, socal_avg_acre, linewidth=1, marker=\"o\", color='b', label=\"So-Cal\")\n",
    "ax1.plot(years, s_fit, \"b--\", linewidth=1)\n",
    "\n",
    "ax1.legend(loc='upper left', fontsize=12)\n",
    "ax1.set_ylabel(\"Average Acres Burned\", fontsize=14)\n",
    "ax1.set_xlabel(\"Years\", fontsize=14)\n",
    "ax1.set_title(\"Avg. Acres Burned Each Year\", fontsize=20)\n",
    "\n",
    "plt.show()"
   ]
  },
  {
   "cell_type": "markdown",
   "id": "fccb4e41",
   "metadata": {},
   "source": [
    "# Top Causes of Fire for North and South"
   ]
  },
  {
   "cell_type": "code",
   "execution_count": null,
   "id": "bb70b615",
   "metadata": {},
   "outputs": [],
   "source": []
  },
  {
   "cell_type": "code",
   "execution_count": null,
   "id": "339024fa",
   "metadata": {},
   "outputs": [],
   "source": []
  },
  {
   "cell_type": "markdown",
   "id": "95445dac",
   "metadata": {},
   "source": [
    "# Most Prone Area in Northern and Southern"
   ]
  },
  {
   "cell_type": "code",
   "execution_count": null,
   "id": "cffdecfa",
   "metadata": {},
   "outputs": [],
   "source": []
  },
  {
   "cell_type": "code",
   "execution_count": null,
   "id": "3ef228c8",
   "metadata": {},
   "outputs": [],
   "source": []
  },
  {
   "cell_type": "markdown",
   "id": "93707bab",
   "metadata": {},
   "source": [
    "# Most Prone Area Overall"
   ]
  },
  {
   "cell_type": "code",
   "execution_count": null,
   "id": "5cb3719a",
   "metadata": {},
   "outputs": [],
   "source": []
  },
  {
   "cell_type": "code",
   "execution_count": null,
   "id": "26e82c6b",
   "metadata": {},
   "outputs": [],
   "source": []
  },
  {
   "cell_type": "markdown",
   "id": "958c116f",
   "metadata": {},
   "source": [
    "# Any Correlation Between Cause and Acreage Burned"
   ]
  },
  {
   "cell_type": "code",
   "execution_count": null,
   "id": "580f81be",
   "metadata": {},
   "outputs": [],
   "source": []
  },
  {
   "cell_type": "code",
   "execution_count": null,
   "id": "fccf9bfa",
   "metadata": {},
   "outputs": [],
   "source": []
  },
  {
   "cell_type": "markdown",
   "id": "b10308dc",
   "metadata": {},
   "source": [
    "# Any Correlation Between Latitude and Acreage Burned"
   ]
  }
 ],
 "metadata": {
  "kernelspec": {
   "display_name": "PythonData",
   "language": "python",
   "name": "pythondata"
  },
  "language_info": {
   "codemirror_mode": {
    "name": "ipython",
    "version": 3
   },
   "file_extension": ".py",
   "mimetype": "text/x-python",
   "name": "python",
   "nbconvert_exporter": "python",
   "pygments_lexer": "ipython3",
   "version": "3.7.7"
  }
 },
 "nbformat": 4,
 "nbformat_minor": 5
}
